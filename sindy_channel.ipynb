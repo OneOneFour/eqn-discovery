{
 "cells": [
  {
   "cell_type": "code",
   "execution_count": 80,
   "metadata": {},
   "outputs": [],
   "source": [
    "import numpy as np\n",
    "comp= np.load('data_for_Rob.npz')\n",
    "time = comp['time']\n",
    "xpos = comp['x_position']\n",
    "conc = comp['concentration']"
   ]
  },
  {
   "cell_type": "code",
   "execution_count": 82,
   "metadata": {},
   "outputs": [
    {
     "data": {
      "text/plain": [
       "[<matplotlib.lines.Line2D at 0x134023bc0>]"
      ]
     },
     "execution_count": 82,
     "metadata": {},
     "output_type": "execute_result"
    },
    {
     "data": {
      "image/png": "[encoded data removed]",
      "text/plain": [
       "<Figure size 640x480 with 1 Axes>"
      ]
     },
     "metadata": {},
     "output_type": "display_data"
    }
   ],
   "source": [
    "time = time.reshape(34816,-1)\n",
    "xpos = xpos\n",
    "conc = conc\n",
    "import matplotlib.pyplot as plt\n",
    "plt.plot(xpos)"
   ]
  },
  {
   "cell_type": "code",
   "execution_count": 83,
   "metadata": {},
   "outputs": [
    {
     "data": {
      "text/plain": [
       "array([4.883000e-03, 1.464800e-02, 2.441400e-02, ..., 9.975586e+00,\n",
       "       9.985352e+00, 9.995117e+00])"
      ]
     },
     "execution_count": 83,
     "metadata": {},
     "output_type": "execute_result"
    }
   ],
   "source": [
    "xpos"
   ]
  },
  {
   "cell_type": "code",
   "execution_count": 73,
   "metadata": {},
   "outputs": [
    {
     "data": {
      "text/plain": [
       "array([4.883000e-03, 1.464800e-02, 2.441400e-02, ..., 9.975586e+00,\n",
       "       9.985352e+00, 9.995117e+00])"
      ]
     },
     "execution_count": 73,
     "metadata": {},
     "output_type": "execute_result"
    }
   ],
   "source": [
    "xpos"
   ]
  },
  {
   "cell_type": "code",
   "execution_count": 78,
   "metadata": {},
   "outputs": [
    {
     "data": {
      "text/plain": [
       "array([[4.883000e-03, 1.464800e-02, 2.441400e-02, ..., 2.490230e-01,\n",
       "        2.490230e-01, 2.392580e-01],\n",
       "       [2.392580e-01, 2.490230e-01, 2.490230e-01, ..., 6.005860e-01,\n",
       "        6.103520e-01, 6.103520e-01],\n",
       "       [6.201170e-01, 6.201170e-01, 6.103520e-01, ..., 8.447270e-01,\n",
       "        8.447270e-01, 8.544920e-01],\n",
       "       ...,\n",
       "       [9.145508e+00, 9.155273e+00, 9.155273e+00, ..., 9.389648e+00,\n",
       "        9.379883e+00, 9.379883e+00],\n",
       "       [9.389648e+00, 9.389648e+00, 9.399414e+00, ..., 9.750977e+00,\n",
       "        9.750977e+00, 9.760742e+00],\n",
       "       [9.760742e+00, 9.750977e+00, 9.750977e+00, ..., 9.975586e+00,\n",
       "        9.985352e+00, 9.995117e+00]])"
      ]
     },
     "execution_count": 78,
     "metadata": {},
     "output_type": "execute_result"
    }
   ],
   "source": [
    "xpos"
   ]
  },
  {
   "cell_type": "code",
   "execution_count": 60,
   "metadata": {},
   "outputs": [
    {
     "data": {
      "text/plain": [
       "34816"
      ]
     },
     "execution_count": 60,
     "metadata": {},
     "output_type": "execute_result"
    }
   ],
   "source": [
    "np.argmax(time>0)"
   ]
  },
  {
   "cell_type": "code",
   "execution_count": 57,
   "metadata": {},
   "outputs": [
    {
     "data": {
      "text/plain": [
       "(17442816,)"
      ]
     },
     "execution_count": 57,
     "metadata": {},
     "output_type": "execute_result"
    }
   ],
   "source": [
    "conc.shape"
   ]
  },
  {
   "cell_type": "code",
   "execution_count": null,
   "metadata": {},
   "outputs": [],
   "source": []
  }
 ],
 "metadata": {
  "kernelspec": {
   "display_name": "genetic_algo",
   "language": "python",
   "name": "python3"
  },
  "language_info": {
   "codemirror_mode": {
    "name": "ipython",
    "version": 3
   },
   "file_extension": ".py",
   "mimetype": "text/x-python",
   "name": "python",
   "nbconvert_exporter": "python",
   "pygments_lexer": "ipython3",
   "version": "3.12.2"
  }
 },
 "nbformat": 4,
 "nbformat_minor": 2
}
